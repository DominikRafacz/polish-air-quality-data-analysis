{
 "cells": [
  {
   "cell_type": "code",
   "execution_count": 1,
   "metadata": {
    "collapsed": true
   },
   "outputs": [],
   "source": [
    "import read"
   ]
  },
  {
   "cell_type": "code",
   "execution_count": 2,
   "outputs": [
    {
     "data": {
      "text/plain": "                 timestamp  station_code  measurement pollutant  exposition  \\\n0      2020-01-01 01:00:00  MpKrakAlKras      0.67896        CO           1   \n1      2020-01-01 02:00:00  MpKrakAlKras      0.72196        CO           1   \n2      2020-01-01 03:00:00  MpKrakAlKras      0.75515        CO           1   \n3      2020-01-01 04:00:00  MpKrakAlKras      0.73271        CO           1   \n4      2020-01-01 05:00:00  MpKrakAlKras      0.66290        CO           1   \n...                    ...           ...          ...       ...         ...   \n825691 2020-12-31 20:00:00  SlZywieKoper     27.43300       NO2           1   \n825692 2020-12-31 21:00:00  SlZywieKoper     14.54020       NO2           1   \n825693 2020-12-31 22:00:00  SlZywieKoper     12.71480       NO2           1   \n825694 2020-12-31 23:00:00  SlZywieKoper     11.78310       NO2           1   \n825695 2021-01-01 00:00:00  SlZywieKoper     11.50070       NO2           1   \n\n             region  \n0       MALOPOLSKIE  \n1       MALOPOLSKIE  \n2       MALOPOLSKIE  \n3       MALOPOLSKIE  \n4       MALOPOLSKIE  \n...             ...  \n825691      SLASKIE  \n825692      SLASKIE  \n825693      SLASKIE  \n825694      SLASKIE  \n825695      SLASKIE  \n\n[825696 rows x 6 columns]",
      "text/html": "<div>\n<style scoped>\n    .dataframe tbody tr th:only-of-type {\n        vertical-align: middle;\n    }\n\n    .dataframe tbody tr th {\n        vertical-align: top;\n    }\n\n    .dataframe thead th {\n        text-align: right;\n    }\n</style>\n<table border=\"1\" class=\"dataframe\">\n  <thead>\n    <tr style=\"text-align: right;\">\n      <th></th>\n      <th>timestamp</th>\n      <th>station_code</th>\n      <th>measurement</th>\n      <th>pollutant</th>\n      <th>exposition</th>\n      <th>region</th>\n    </tr>\n  </thead>\n  <tbody>\n    <tr>\n      <th>0</th>\n      <td>2020-01-01 01:00:00</td>\n      <td>MpKrakAlKras</td>\n      <td>0.67896</td>\n      <td>CO</td>\n      <td>1</td>\n      <td>MALOPOLSKIE</td>\n    </tr>\n    <tr>\n      <th>1</th>\n      <td>2020-01-01 02:00:00</td>\n      <td>MpKrakAlKras</td>\n      <td>0.72196</td>\n      <td>CO</td>\n      <td>1</td>\n      <td>MALOPOLSKIE</td>\n    </tr>\n    <tr>\n      <th>2</th>\n      <td>2020-01-01 03:00:00</td>\n      <td>MpKrakAlKras</td>\n      <td>0.75515</td>\n      <td>CO</td>\n      <td>1</td>\n      <td>MALOPOLSKIE</td>\n    </tr>\n    <tr>\n      <th>3</th>\n      <td>2020-01-01 04:00:00</td>\n      <td>MpKrakAlKras</td>\n      <td>0.73271</td>\n      <td>CO</td>\n      <td>1</td>\n      <td>MALOPOLSKIE</td>\n    </tr>\n    <tr>\n      <th>4</th>\n      <td>2020-01-01 05:00:00</td>\n      <td>MpKrakAlKras</td>\n      <td>0.66290</td>\n      <td>CO</td>\n      <td>1</td>\n      <td>MALOPOLSKIE</td>\n    </tr>\n    <tr>\n      <th>...</th>\n      <td>...</td>\n      <td>...</td>\n      <td>...</td>\n      <td>...</td>\n      <td>...</td>\n      <td>...</td>\n    </tr>\n    <tr>\n      <th>825691</th>\n      <td>2020-12-31 20:00:00</td>\n      <td>SlZywieKoper</td>\n      <td>27.43300</td>\n      <td>NO2</td>\n      <td>1</td>\n      <td>SLASKIE</td>\n    </tr>\n    <tr>\n      <th>825692</th>\n      <td>2020-12-31 21:00:00</td>\n      <td>SlZywieKoper</td>\n      <td>14.54020</td>\n      <td>NO2</td>\n      <td>1</td>\n      <td>SLASKIE</td>\n    </tr>\n    <tr>\n      <th>825693</th>\n      <td>2020-12-31 22:00:00</td>\n      <td>SlZywieKoper</td>\n      <td>12.71480</td>\n      <td>NO2</td>\n      <td>1</td>\n      <td>SLASKIE</td>\n    </tr>\n    <tr>\n      <th>825694</th>\n      <td>2020-12-31 23:00:00</td>\n      <td>SlZywieKoper</td>\n      <td>11.78310</td>\n      <td>NO2</td>\n      <td>1</td>\n      <td>SLASKIE</td>\n    </tr>\n    <tr>\n      <th>825695</th>\n      <td>2021-01-01 00:00:00</td>\n      <td>SlZywieKoper</td>\n      <td>11.50070</td>\n      <td>NO2</td>\n      <td>1</td>\n      <td>SLASKIE</td>\n    </tr>\n  </tbody>\n</table>\n<p>825696 rows × 6 columns</p>\n</div>"
     },
     "execution_count": 2,
     "metadata": {},
     "output_type": "execute_result"
    }
   ],
   "source": [
    "read.query_data_range(years=2020, pollutants=['SO2', 'CO', 'NO2'], expositions=1, regions=['MALOPOLSKIE', 'MAZOWIECKIE', 'SLASKIE'])"
   ],
   "metadata": {
    "collapsed": false,
    "pycharm": {
     "name": "#%%\n"
    }
   }
  },
  {
   "cell_type": "code",
   "execution_count": 2,
   "outputs": [],
   "source": [],
   "metadata": {
    "collapsed": false,
    "pycharm": {
     "name": "#%%\n"
    }
   }
  },
  {
   "cell_type": "code",
   "execution_count": null,
   "outputs": [],
   "source": [],
   "metadata": {
    "collapsed": false,
    "pycharm": {
     "name": "#%%\n"
    }
   }
  }
 ],
 "metadata": {
  "kernelspec": {
   "display_name": "Python 3",
   "language": "python",
   "name": "python3"
  },
  "language_info": {
   "codemirror_mode": {
    "name": "ipython",
    "version": 2
   },
   "file_extension": ".py",
   "mimetype": "text/x-python",
   "name": "python",
   "nbconvert_exporter": "python",
   "pygments_lexer": "ipython2",
   "version": "2.7.6"
  }
 },
 "nbformat": 4,
 "nbformat_minor": 0
}